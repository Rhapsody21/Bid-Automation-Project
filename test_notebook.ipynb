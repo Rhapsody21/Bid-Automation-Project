{
 "cells": [
  {
   "cell_type": "code",
   "execution_count": null,
   "metadata": {},
   "outputs": [],
   "source": [
    "import os\n",
    "from openai import OpenAI\n",
    "import pyPDF\n",
    "import fits\n",
    "import pdfplumber\n",
    "\n"
   ]
  },
  {
   "cell_type": "code",
   "execution_count": null,
   "metadata": {},
   "outputs": [],
   "source": [
    "def extract_key_words(rfp_content):    \n",
    "    try:\n",
    "        api_key= os.environ(\"OPENAI_API_KEY\")\n",
    "    except:\n",
    "        print(\"please make sure you enter a valid OPENAI_API_KEY, you can set it in the environment\")\n",
    "    openAiClient = OpenAI(api_key=api_key)\n",
    "    response = openAiClient.chat.completions.create(\n",
    "        model= \"gpt-4o-mini\",\n",
    "        messages=[\n",
    "            {\n",
    "                \"role\": \"system\"\n",
    "                \"content\": \"You are an AI assistant specialized in analyzing Request for Proposals (RFPs). Your primary task is to extract the most important keywords and phrases that help in preparing a strong proposal. Analyze the RFP document and extract key information, focusing on the most critical sections, including Scope of Work (tasks, deliverables, project goals), Eligibility Criteria (who is qualified to bid), Evaluation Criteria (how proposals will be assessed), Budget & Cost Requirements (estimated budget, pricing models), Deadlines & Submission Instructions (key dates), Required Documents (mandatory attachments), Key Contacts (for inquiries and communication), and Compliance & Legal Requirements (regulations, security, ownership rights). Extract full key phrases instead of single words, maintain accuracy by only extracting what is explicitly stated in the RFP, and ignore common words such as greetings and general instructions. If a section is missing, return nothing instead of making assumptions. The output should be structured clearly to help users quickly identify the key details needed for proposal preparation.\"\n",
    "            },\n",
    "            {\n",
    "                \"role\": \"user\",\n",
    "                \"content\": rfp_content\n",
    "            }\n",
    "        ]\n",
    "    )\n",
    "    return response.choices[0].message"
   ]
  },
  {
   "cell_type": "code",
   "execution_count": null,
   "metadata": {},
   "outputs": [],
   "source": [
    "\n",
    "def extract_text_from_pdf(pdf_path):\n",
    "    \"\"\"Extracts text from a given PDF file.\"\"\"\n",
    "    doc = fitz.open(pdf_path)  # Open the PDF\n",
    "    text = \"\"\n",
    "\n",
    "    for page in doc:  # Loop through all pages\n",
    "        text += page.get_text(\"text\") + \"\\n\\n\"  # Extract text\n",
    "    \n",
    "    return text\n",
    "\n",
    "# Example usage\n",
    "pdf_file = \"sample.pdf\"  # Change this to your PDF file path\n",
    "extracted_text = extract_text_from_pdf(pdf_file)\n",
    "\n",
    "# Print extracted text\n",
    "print(extracted_text)"
   ]
  },
  {
   "cell_type": "markdown",
   "metadata": {},
   "source": []
  }
 ],
 "metadata": {
  "kernelspec": {
   "display_name": "Python 3",
   "language": "python",
   "name": "python3"
  },
  "language_info": {
   "name": "python",
   "version": "3.11.2"
  }
 },
 "nbformat": 4,
 "nbformat_minor": 2
}
